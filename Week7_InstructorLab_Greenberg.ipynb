{
 "cells": [
  {
   "cell_type": "markdown",
   "id": "cc14ce1e-ce7b-4076-a115-8b46e7e5d143",
   "metadata": {},
   "source": [
    "# Week 7 Instructor-Led Lab: DataFrame Exploration  \n",
    "**Author:** Thomas J. Greenberg  \n",
    "**Course:** BGEN632 – Graduate Introduction to Python  \n",
    "**Term:** Spring 2025  \n",
    "**Date:** April 14, 2025  "
   ]
  },
  {
   "cell_type": "markdown",
   "id": "67603919-e525-46bc-bc9f-6bb4ef3f3e80",
   "metadata": {},
   "source": [
    "## Purpose and Methods  \n",
    "\n",
    " This lab covers pandas data manipulation techniques using the **Loblolly.csv** dataset, \n",
    " including indexing, slicing, sorting, transformation, metadata exploration, K-Fold splits, \n",
    " and datetime handling.\n",
    "\n",
    "Here are the methods:\n",
    " - **OS module** for file navigation.\n",
    " - **pd.read_csv()** for data loading.\n",
    " - **.iloc[]** and **.loc[]** for indexing.\n",
    " - Slicing to retrieve specific rows and columns.\n",
    " - **pd.unique()** to identify distinct values.\n",
    " - Metadata checks with **.shape**, **.dtypes**, and **.info()**.\n",
    " - Handling missing data with **isnull()** and **notnull()**.\n",
    " - Combining data with **pd.concat()**.\n",
    " - Sorting using **sort_values()** and sampling with **sample()**.\n",
    " - Converting data types with **.astype()**.\n",
    " - Date/time handling using **pd.to_datetime()**.\n",
    " - Implementing train/test splits with **KFold**.\n",
    "\n",
    " Before reading datasets check the working directory (set to the lab materials folder). "
   ]
  },
  {
   "cell_type": "code",
   "execution_count": 5,
   "id": "7f7741f7-e27d-405d-a8bb-c6479873be9b",
   "metadata": {},
   "outputs": [
    {
     "name": "stdout",
     "output_type": "stream",
     "text": [
      "Requirement already satisfied: scikit-learn in c:\\users\\tj\\appdata\\local\\programs\\python\\python313\\lib\\site-packages (1.6.1)\n",
      "Requirement already satisfied: numpy>=1.19.5 in c:\\users\\tj\\appdata\\local\\programs\\python\\python313\\lib\\site-packages (from scikit-learn) (2.2.3)\n",
      "Requirement already satisfied: scipy>=1.6.0 in c:\\users\\tj\\appdata\\local\\programs\\python\\python313\\lib\\site-packages (from scikit-learn) (1.15.2)\n",
      "Requirement already satisfied: joblib>=1.2.0 in c:\\users\\tj\\appdata\\local\\programs\\python\\python313\\lib\\site-packages (from scikit-learn) (1.4.2)\n",
      "Requirement already satisfied: threadpoolctl>=3.1.0 in c:\\users\\tj\\appdata\\local\\programs\\python\\python313\\lib\\site-packages (from scikit-learn) (3.6.0)\n"
     ]
    },
    {
     "name": "stderr",
     "output_type": "stream",
     "text": [
      "\n",
      "[notice] A new release of pip is available: 24.3.1 -> 25.0.1\n",
      "[notice] To update, run: python.exe -m pip install --upgrade pip\n"
     ]
    }
   ],
   "source": [
    "!pip install scikit-learn"
   ]
  },
  {
   "cell_type": "code",
   "execution_count": 6,
   "id": "0340702a-9f19-4a36-a5f9-35c7b609e1db",
   "metadata": {},
   "outputs": [],
   "source": [
    "import os\n",
    "import pandas as pd\n",
    "import numpy as np\n",
    "from sklearn.model_selection import KFold"
   ]
  },
  {
   "cell_type": "markdown",
   "id": "9e592fef-e42b-4859-84e1-733719b2dfd7",
   "metadata": {},
   "source": [
    "## Set Working Directory"
   ]
  },
  {
   "cell_type": "code",
   "execution_count": 8,
   "id": "cff62bcd-15c3-457c-832e-301599fea647",
   "metadata": {},
   "outputs": [
    {
     "data": {
      "text/plain": [
       "'C:\\\\MySystem\\\\School\\\\Python\\\\GitHubStuff\\\\week7labs'"
      ]
     },
     "execution_count": 8,
     "metadata": {},
     "output_type": "execute_result"
    }
   ],
   "source": [
    "os.getcwd()"
   ]
  },
  {
   "cell_type": "code",
   "execution_count": 9,
   "id": "f248d226-b1bd-4b9e-bc41-93331f1b00ea",
   "metadata": {},
   "outputs": [],
   "source": [
    "os.chdir(\"C:/MySystem/School/Python/GitHubStuff/week7labs/data\")"
   ]
  },
  {
   "cell_type": "markdown",
   "id": "788b27a9-74cd-4119-a198-cc7f6b80133b",
   "metadata": {},
   "source": [
    "## Load Dataset: Loblolly.csv"
   ]
  },
  {
   "cell_type": "code",
   "execution_count": 10,
   "id": "5856cc43-63b7-4f4e-be0e-63f03f1ecd81",
   "metadata": {},
   "outputs": [
    {
     "data": {
      "text/html": [
       "<div>\n",
       "<style scoped>\n",
       "    .dataframe tbody tr th:only-of-type {\n",
       "        vertical-align: middle;\n",
       "    }\n",
       "\n",
       "    .dataframe tbody tr th {\n",
       "        vertical-align: top;\n",
       "    }\n",
       "\n",
       "    .dataframe thead th {\n",
       "        text-align: right;\n",
       "    }\n",
       "</style>\n",
       "<table border=\"1\" class=\"dataframe\">\n",
       "  <thead>\n",
       "    <tr style=\"text-align: right;\">\n",
       "      <th></th>\n",
       "      <th>height</th>\n",
       "      <th>age</th>\n",
       "      <th>Seed</th>\n",
       "    </tr>\n",
       "  </thead>\n",
       "  <tbody>\n",
       "    <tr>\n",
       "      <th>0</th>\n",
       "      <td>4.51</td>\n",
       "      <td>3</td>\n",
       "      <td>301</td>\n",
       "    </tr>\n",
       "    <tr>\n",
       "      <th>1</th>\n",
       "      <td>4.55</td>\n",
       "      <td>3</td>\n",
       "      <td>303</td>\n",
       "    </tr>\n",
       "    <tr>\n",
       "      <th>2</th>\n",
       "      <td>4.79</td>\n",
       "      <td>3</td>\n",
       "      <td>305</td>\n",
       "    </tr>\n",
       "    <tr>\n",
       "      <th>3</th>\n",
       "      <td>3.91</td>\n",
       "      <td>3</td>\n",
       "      <td>307</td>\n",
       "    </tr>\n",
       "    <tr>\n",
       "      <th>4</th>\n",
       "      <td>4.81</td>\n",
       "      <td>3</td>\n",
       "      <td>309</td>\n",
       "    </tr>\n",
       "  </tbody>\n",
       "</table>\n",
       "</div>"
      ],
      "text/plain": [
       "   height  age  Seed\n",
       "0    4.51    3   301\n",
       "1    4.55    3   303\n",
       "2    4.79    3   305\n",
       "3    3.91    3   307\n",
       "4    4.81    3   309"
      ]
     },
     "execution_count": 10,
     "metadata": {},
     "output_type": "execute_result"
    }
   ],
   "source": [
    "loblolly = pd.read_csv(\"Loblolly.csv\")\n",
    "loblolly.head()"
   ]
  },
  {
   "cell_type": "markdown",
   "id": "cfb27280-c3d1-4e4b-a168-9999524742de",
   "metadata": {},
   "source": [
    "## Preview the DataFrame  \n",
    "\n",
    "After reading in the dataset, you can quickly check its contents using three common options:\n",
    "\n",
    "- `df.head()` – displays the first five rows (default)  \n",
    "- `df.tail()` – displays the last five rows (default)  \n",
    "- Simply typing the DataFrame name (e.g., `loblolly`) displays both the first and last five rows\n",
    "\n",
    "This behavior helps with basic verification before moving on to indexing or cleaning."
   ]
  },
  {
   "cell_type": "code",
   "execution_count": 26,
   "id": "5b0a687b-87c2-445d-afe6-9271d4e5891f",
   "metadata": {},
   "outputs": [
    {
     "data": {
      "text/html": [
       "<div>\n",
       "<style scoped>\n",
       "    .dataframe tbody tr th:only-of-type {\n",
       "        vertical-align: middle;\n",
       "    }\n",
       "\n",
       "    .dataframe tbody tr th {\n",
       "        vertical-align: top;\n",
       "    }\n",
       "\n",
       "    .dataframe thead th {\n",
       "        text-align: right;\n",
       "    }\n",
       "</style>\n",
       "<table border=\"1\" class=\"dataframe\">\n",
       "  <thead>\n",
       "    <tr style=\"text-align: right;\">\n",
       "      <th></th>\n",
       "      <th>height</th>\n",
       "      <th>age</th>\n",
       "      <th>Seed</th>\n",
       "    </tr>\n",
       "  </thead>\n",
       "  <tbody>\n",
       "    <tr>\n",
       "      <th>74</th>\n",
       "      <td>63.05</td>\n",
       "      <td>25</td>\n",
       "      <td>309</td>\n",
       "    </tr>\n",
       "    <tr>\n",
       "      <th>75</th>\n",
       "      <td>59.64</td>\n",
       "      <td>25</td>\n",
       "      <td>311</td>\n",
       "    </tr>\n",
       "    <tr>\n",
       "      <th>76</th>\n",
       "      <td>60.07</td>\n",
       "      <td>25</td>\n",
       "      <td>315</td>\n",
       "    </tr>\n",
       "    <tr>\n",
       "      <th>77</th>\n",
       "      <td>60.69</td>\n",
       "      <td>25</td>\n",
       "      <td>319</td>\n",
       "    </tr>\n",
       "    <tr>\n",
       "      <th>78</th>\n",
       "      <td>60.28</td>\n",
       "      <td>25</td>\n",
       "      <td>321</td>\n",
       "    </tr>\n",
       "    <tr>\n",
       "      <th>79</th>\n",
       "      <td>61.62</td>\n",
       "      <td>25</td>\n",
       "      <td>323</td>\n",
       "    </tr>\n",
       "    <tr>\n",
       "      <th>80</th>\n",
       "      <td>58.49</td>\n",
       "      <td>25</td>\n",
       "      <td>325</td>\n",
       "    </tr>\n",
       "    <tr>\n",
       "      <th>81</th>\n",
       "      <td>56.81</td>\n",
       "      <td>25</td>\n",
       "      <td>327</td>\n",
       "    </tr>\n",
       "    <tr>\n",
       "      <th>82</th>\n",
       "      <td>56.43</td>\n",
       "      <td>25</td>\n",
       "      <td>329</td>\n",
       "    </tr>\n",
       "    <tr>\n",
       "      <th>83</th>\n",
       "      <td>59.49</td>\n",
       "      <td>25</td>\n",
       "      <td>331</td>\n",
       "    </tr>\n",
       "  </tbody>\n",
       "</table>\n",
       "</div>"
      ],
      "text/plain": [
       "    height  age  Seed\n",
       "74   63.05   25   309\n",
       "75   59.64   25   311\n",
       "76   60.07   25   315\n",
       "77   60.69   25   319\n",
       "78   60.28   25   321\n",
       "79   61.62   25   323\n",
       "80   58.49   25   325\n",
       "81   56.81   25   327\n",
       "82   56.43   25   329\n",
       "83   59.49   25   331"
      ]
     },
     "execution_count": 26,
     "metadata": {},
     "output_type": "execute_result"
    }
   ],
   "source": [
    "loblolly          \n",
    "loblolly.head(10)  \n",
    "loblolly.tail(10) "
   ]
  },
  {
   "cell_type": "markdown",
   "id": "d646950a-d183-409c-a320-99986d26b400",
   "metadata": {},
   "source": [
    "## Inspect DataFrame Metadata  \n",
    "Check **.shape** for dimensions, **.columns** for variable names,  \n",
    "and **.info()** for data types and missing values."
   ]
  },
  {
   "cell_type": "code",
   "execution_count": 11,
   "id": "78c3a790-574b-411a-8095-34a1b4cfc9b9",
   "metadata": {},
   "outputs": [
    {
     "name": "stdout",
     "output_type": "stream",
     "text": [
      "Shape: (84, 3)\n",
      "\n",
      "Columns: ['height', 'age', 'Seed']\n",
      "<class 'pandas.core.frame.DataFrame'>\n",
      "RangeIndex: 84 entries, 0 to 83\n",
      "Data columns (total 3 columns):\n",
      " #   Column  Non-Null Count  Dtype  \n",
      "---  ------  --------------  -----  \n",
      " 0   height  84 non-null     float64\n",
      " 1   age     84 non-null     int64  \n",
      " 2   Seed    84 non-null     int64  \n",
      "dtypes: float64(1), int64(2)\n",
      "memory usage: 2.1 KB\n"
     ]
    }
   ],
   "source": [
    "print(\"Shape:\", loblolly.shape)\n",
    "print(\"\\nColumns:\", loblolly.columns.tolist())\n",
    "loblolly.info()"
   ]
  },
  {
   "cell_type": "markdown",
   "id": "b6e0e5d1-fee0-4a19-b04e-c94cd13cb91e",
   "metadata": {},
   "source": [
    "## Use `.iloc[]` for Index-Based Access  \n",
    "Use **.iloc[]** to slice rows and columns by position. Employ basic slicing `[start:stop]`,  \n",
    "list-based row selection like `[[0, 4, 7]]`, and column isolation with `[:, [1, 3]]`."
   ]
  },
  {
   "cell_type": "code",
   "execution_count": 24,
   "id": "2c87131d-c6ca-4df8-ac2b-cb9671160959",
   "metadata": {},
   "outputs": [
    {
     "data": {
      "text/html": [
       "<div>\n",
       "<style scoped>\n",
       "    .dataframe tbody tr th:only-of-type {\n",
       "        vertical-align: middle;\n",
       "    }\n",
       "\n",
       "    .dataframe tbody tr th {\n",
       "        vertical-align: top;\n",
       "    }\n",
       "\n",
       "    .dataframe thead th {\n",
       "        text-align: right;\n",
       "    }\n",
       "</style>\n",
       "<table border=\"1\" class=\"dataframe\">\n",
       "  <thead>\n",
       "    <tr style=\"text-align: right;\">\n",
       "      <th></th>\n",
       "      <th>age</th>\n",
       "      <th>Seed</th>\n",
       "    </tr>\n",
       "  </thead>\n",
       "  <tbody>\n",
       "    <tr>\n",
       "      <th>0</th>\n",
       "      <td>3</td>\n",
       "      <td>301</td>\n",
       "    </tr>\n",
       "    <tr>\n",
       "      <th>1</th>\n",
       "      <td>3</td>\n",
       "      <td>303</td>\n",
       "    </tr>\n",
       "    <tr>\n",
       "      <th>2</th>\n",
       "      <td>3</td>\n",
       "      <td>305</td>\n",
       "    </tr>\n",
       "    <tr>\n",
       "      <th>3</th>\n",
       "      <td>3</td>\n",
       "      <td>307</td>\n",
       "    </tr>\n",
       "    <tr>\n",
       "      <th>4</th>\n",
       "      <td>3</td>\n",
       "      <td>309</td>\n",
       "    </tr>\n",
       "    <tr>\n",
       "      <th>...</th>\n",
       "      <td>...</td>\n",
       "      <td>...</td>\n",
       "    </tr>\n",
       "    <tr>\n",
       "      <th>79</th>\n",
       "      <td>25</td>\n",
       "      <td>323</td>\n",
       "    </tr>\n",
       "    <tr>\n",
       "      <th>80</th>\n",
       "      <td>25</td>\n",
       "      <td>325</td>\n",
       "    </tr>\n",
       "    <tr>\n",
       "      <th>81</th>\n",
       "      <td>25</td>\n",
       "      <td>327</td>\n",
       "    </tr>\n",
       "    <tr>\n",
       "      <th>82</th>\n",
       "      <td>25</td>\n",
       "      <td>329</td>\n",
       "    </tr>\n",
       "    <tr>\n",
       "      <th>83</th>\n",
       "      <td>25</td>\n",
       "      <td>331</td>\n",
       "    </tr>\n",
       "  </tbody>\n",
       "</table>\n",
       "<p>84 rows × 2 columns</p>\n",
       "</div>"
      ],
      "text/plain": [
       "    age  Seed\n",
       "0     3   301\n",
       "1     3   303\n",
       "2     3   305\n",
       "3     3   307\n",
       "4     3   309\n",
       "..  ...   ...\n",
       "79   25   323\n",
       "80   25   325\n",
       "81   25   327\n",
       "82   25   329\n",
       "83   25   331\n",
       "\n",
       "[84 rows x 2 columns]"
      ]
     },
     "execution_count": 24,
     "metadata": {},
     "output_type": "execute_result"
    }
   ],
   "source": [
    "loblolly.iloc[0:3]\n",
    "loblolly.iloc[[0, 1, 2], [1, 2]]\n",
    "loblolly.iloc[:, 1:3]"
   ]
  },
  {
   "cell_type": "markdown",
   "id": "6839ac3b-9b24-40b6-9076-e29fae4abc4a",
   "metadata": {},
   "source": [
    "### Use `.loc[]` for Label-Based Access\n",
    "`.loc[]` targets rows and columns by label. For example, label slicing `['A':'D']` (inclusive),  \n",
    "selecting columns with `[:, ['height','age']]`, or boolean filtering `df.loc[df['age'] > 10]`."
   ]
  },
  {
   "cell_type": "code",
   "execution_count": 12,
   "id": "d387a04f-8be0-49e5-a7cb-5eb3e4020c10",
   "metadata": {},
   "outputs": [
    {
     "data": {
      "text/html": [
       "<div>\n",
       "<style scoped>\n",
       "    .dataframe tbody tr th:only-of-type {\n",
       "        vertical-align: middle;\n",
       "    }\n",
       "\n",
       "    .dataframe tbody tr th {\n",
       "        vertical-align: top;\n",
       "    }\n",
       "\n",
       "    .dataframe thead th {\n",
       "        text-align: right;\n",
       "    }\n",
       "</style>\n",
       "<table border=\"1\" class=\"dataframe\">\n",
       "  <thead>\n",
       "    <tr style=\"text-align: right;\">\n",
       "      <th></th>\n",
       "      <th>age</th>\n",
       "      <th>Seed</th>\n",
       "    </tr>\n",
       "  </thead>\n",
       "  <tbody>\n",
       "    <tr>\n",
       "      <th>0</th>\n",
       "      <td>3</td>\n",
       "      <td>301</td>\n",
       "    </tr>\n",
       "    <tr>\n",
       "      <th>1</th>\n",
       "      <td>3</td>\n",
       "      <td>303</td>\n",
       "    </tr>\n",
       "    <tr>\n",
       "      <th>2</th>\n",
       "      <td>3</td>\n",
       "      <td>305</td>\n",
       "    </tr>\n",
       "  </tbody>\n",
       "</table>\n",
       "</div>"
      ],
      "text/plain": [
       "   age  Seed\n",
       "0    3   301\n",
       "1    3   303\n",
       "2    3   305"
      ]
     },
     "execution_count": 12,
     "metadata": {},
     "output_type": "execute_result"
    }
   ],
   "source": [
    "loblolly.loc[:, 'age'] \n",
    "loblolly.loc[0:3, 'height':'age']  \n",
    "loblolly.loc[[0, 1, 2], ['age', 'Seed']]"
   ]
  },
  {
   "cell_type": "markdown",
   "id": "28ca60d4-67e5-4f97-96e4-f9115b9f1c93",
   "metadata": {},
   "source": [
    "## Detecting Missing Values\n",
    "Understanding the structure of your DataFrame is essential before analysis. This section checks:\n",
    "\n",
    "- Unique values in columns (e.g., `age`)\n",
    "- Data types with `.dtypes`\n",
    "- Missing data using `pd.isnull()` and `pd.notnull()`"
   ]
  },
  {
   "cell_type": "code",
   "execution_count": 13,
   "id": "5a2ed85f-768f-455d-becb-5e77173aa0d5",
   "metadata": {},
   "outputs": [
    {
     "name": "stdout",
     "output_type": "stream",
     "text": [
      "Unique ages: [ 3  5 10 15 20 25]\n",
      "\n",
      "Data types:\n",
      " height    float64\n",
      "age         int64\n",
      "Seed        int64\n",
      "dtype: object\n",
      "\n",
      "Missing values:\n",
      " height    0\n",
      "age       0\n",
      "Seed      0\n",
      "dtype: int64\n",
      "\n",
      "Complete data flags:\n",
      " height    True\n",
      "age       True\n",
      "Seed      True\n",
      "dtype: bool\n"
     ]
    }
   ],
   "source": [
    "print(\"Unique ages:\", pd.unique(loblolly['age']))\n",
    "\n",
    "print(\"\\nData types:\\n\", loblolly.dtypes)\n",
    "\n",
    "print(\"\\nMissing values:\\n\", pd.isnull(loblolly).sum())\n",
    "\n",
    "print(\"\\nComplete data flags:\\n\", pd.notnull(loblolly).all())"
   ]
  },
  {
   "cell_type": "markdown",
   "id": "5aac7594-5e61-4962-8ce2-8e40214be8a2",
   "metadata": {},
   "source": [
    "## Add New Rows to DataFrame"
   ]
  },
  {
   "cell_type": "code",
   "execution_count": 14,
   "id": "aef7a7b1-6de8-4363-90ee-d885864c6e33",
   "metadata": {},
   "outputs": [
    {
     "data": {
      "text/html": [
       "<div>\n",
       "<style scoped>\n",
       "    .dataframe tbody tr th:only-of-type {\n",
       "        vertical-align: middle;\n",
       "    }\n",
       "\n",
       "    .dataframe tbody tr th {\n",
       "        vertical-align: top;\n",
       "    }\n",
       "\n",
       "    .dataframe thead th {\n",
       "        text-align: right;\n",
       "    }\n",
       "</style>\n",
       "<table border=\"1\" class=\"dataframe\">\n",
       "  <thead>\n",
       "    <tr style=\"text-align: right;\">\n",
       "      <th></th>\n",
       "      <th>height</th>\n",
       "      <th>age</th>\n",
       "      <th>Seed</th>\n",
       "    </tr>\n",
       "  </thead>\n",
       "  <tbody>\n",
       "    <tr>\n",
       "      <th>82</th>\n",
       "      <td>56.43</td>\n",
       "      <td>25</td>\n",
       "      <td>329</td>\n",
       "    </tr>\n",
       "    <tr>\n",
       "      <th>83</th>\n",
       "      <td>59.49</td>\n",
       "      <td>25</td>\n",
       "      <td>331</td>\n",
       "    </tr>\n",
       "    <tr>\n",
       "      <th>84</th>\n",
       "      <td>71.22</td>\n",
       "      <td>30</td>\n",
       "      <td>400</td>\n",
       "    </tr>\n",
       "    <tr>\n",
       "      <th>85</th>\n",
       "      <td>85.05</td>\n",
       "      <td>30</td>\n",
       "      <td>401</td>\n",
       "    </tr>\n",
       "    <tr>\n",
       "      <th>86</th>\n",
       "      <td>68.34</td>\n",
       "      <td>30</td>\n",
       "      <td>402</td>\n",
       "    </tr>\n",
       "  </tbody>\n",
       "</table>\n",
       "</div>"
      ],
      "text/plain": [
       "    height  age  Seed\n",
       "82   56.43   25   329\n",
       "83   59.49   25   331\n",
       "84   71.22   30   400\n",
       "85   85.05   30   401\n",
       "86   68.34   30   402"
      ]
     },
     "execution_count": 14,
     "metadata": {},
     "output_type": "execute_result"
    }
   ],
   "source": [
    " new_rows = pd.DataFrame({\n",
    "    'height': [71.22, 85.05, 68.34],\n",
    "    'age': [30, 30, 30],\n",
    "    'Seed': [400, 401, 402]\n",
    "})\n",
    "loblolly_mod_1 = pd.concat([loblolly, new_rows], ignore_index=True)\n",
    "loblolly_mod_1.tail()"
   ]
  },
  {
   "cell_type": "markdown",
   "id": "9cf29688-ca63-4775-835d-19c5deb9b5b7",
   "metadata": {},
   "source": [
    "## Add New Column to DataFrame"
   ]
  },
  {
   "cell_type": "code",
   "execution_count": 15,
   "id": "c72d1121-9b49-4239-9949-cc52601b008f",
   "metadata": {},
   "outputs": [
    {
     "data": {
      "text/html": [
       "<div>\n",
       "<style scoped>\n",
       "    .dataframe tbody tr th:only-of-type {\n",
       "        vertical-align: middle;\n",
       "    }\n",
       "\n",
       "    .dataframe tbody tr th {\n",
       "        vertical-align: top;\n",
       "    }\n",
       "\n",
       "    .dataframe thead th {\n",
       "        text-align: right;\n",
       "    }\n",
       "</style>\n",
       "<table border=\"1\" class=\"dataframe\">\n",
       "  <thead>\n",
       "    <tr style=\"text-align: right;\">\n",
       "      <th></th>\n",
       "      <th>height</th>\n",
       "      <th>age</th>\n",
       "      <th>Seed</th>\n",
       "      <th>diameter</th>\n",
       "    </tr>\n",
       "  </thead>\n",
       "  <tbody>\n",
       "    <tr>\n",
       "      <th>0</th>\n",
       "      <td>4.51</td>\n",
       "      <td>3</td>\n",
       "      <td>301</td>\n",
       "      <td>1</td>\n",
       "    </tr>\n",
       "    <tr>\n",
       "      <th>1</th>\n",
       "      <td>4.55</td>\n",
       "      <td>3</td>\n",
       "      <td>303</td>\n",
       "      <td>2</td>\n",
       "    </tr>\n",
       "    <tr>\n",
       "      <th>2</th>\n",
       "      <td>4.79</td>\n",
       "      <td>3</td>\n",
       "      <td>305</td>\n",
       "      <td>3</td>\n",
       "    </tr>\n",
       "    <tr>\n",
       "      <th>3</th>\n",
       "      <td>3.91</td>\n",
       "      <td>3</td>\n",
       "      <td>307</td>\n",
       "      <td>3</td>\n",
       "    </tr>\n",
       "    <tr>\n",
       "      <th>4</th>\n",
       "      <td>4.81</td>\n",
       "      <td>3</td>\n",
       "      <td>309</td>\n",
       "      <td>1</td>\n",
       "    </tr>\n",
       "  </tbody>\n",
       "</table>\n",
       "</div>"
      ],
      "text/plain": [
       "   height  age  Seed  diameter\n",
       "0    4.51    3   301         1\n",
       "1    4.55    3   303         2\n",
       "2    4.79    3   305         3\n",
       "3    3.91    3   307         3\n",
       "4    4.81    3   309         1"
      ]
     },
     "execution_count": 15,
     "metadata": {},
     "output_type": "execute_result"
    }
   ],
   "source": [
    "new_cols = pd.DataFrame({\n",
    "    'diameter': np.random.randint(1, 4, size=len(loblolly_mod_1))\n",
    "})\n",
    "loblolly_mod_2 = pd.concat([loblolly_mod_1, new_cols], axis=1)\n",
    "loblolly_mod_2.head()"
   ]
  },
  {
   "cell_type": "markdown",
   "id": "c19451b7-74bc-4937-9c21-04265a935977",
   "metadata": {},
   "source": [
    "## Rename Columns"
   ]
  },
  {
   "cell_type": "code",
   "execution_count": 16,
   "id": "076a6323-f463-4d35-8c66-d952f2a23c53",
   "metadata": {},
   "outputs": [
    {
     "data": {
      "text/plain": [
       "Index(['height', 'age', 'Seed', 'trunk_diameter'], dtype='object')"
      ]
     },
     "execution_count": 16,
     "metadata": {},
     "output_type": "execute_result"
    }
   ],
   "source": [
    "loblolly_mod_2.rename(columns={'diameter': 'trunk_diameter'}, inplace=True)\n",
    "loblolly_mod_2.columns"
   ]
  },
  {
   "cell_type": "markdown",
   "id": "1d88c0c7-02ae-4689-a5d2-5c1f41778cbc",
   "metadata": {},
   "source": [
    "## Sort DataFrame"
   ]
  },
  {
   "cell_type": "code",
   "execution_count": 17,
   "id": "1a4fe3df-c1b7-4620-a964-f431a84402e0",
   "metadata": {},
   "outputs": [
    {
     "data": {
      "text/html": [
       "<div>\n",
       "<style scoped>\n",
       "    .dataframe tbody tr th:only-of-type {\n",
       "        vertical-align: middle;\n",
       "    }\n",
       "\n",
       "    .dataframe tbody tr th {\n",
       "        vertical-align: top;\n",
       "    }\n",
       "\n",
       "    .dataframe thead th {\n",
       "        text-align: right;\n",
       "    }\n",
       "</style>\n",
       "<table border=\"1\" class=\"dataframe\">\n",
       "  <thead>\n",
       "    <tr style=\"text-align: right;\">\n",
       "      <th></th>\n",
       "      <th>height</th>\n",
       "      <th>age</th>\n",
       "      <th>Seed</th>\n",
       "      <th>trunk_diameter</th>\n",
       "    </tr>\n",
       "  </thead>\n",
       "  <tbody>\n",
       "    <tr>\n",
       "      <th>13</th>\n",
       "      <td>3.46</td>\n",
       "      <td>3</td>\n",
       "      <td>331</td>\n",
       "      <td>2</td>\n",
       "    </tr>\n",
       "    <tr>\n",
       "      <th>8</th>\n",
       "      <td>3.77</td>\n",
       "      <td>3</td>\n",
       "      <td>321</td>\n",
       "      <td>2</td>\n",
       "    </tr>\n",
       "    <tr>\n",
       "      <th>5</th>\n",
       "      <td>3.88</td>\n",
       "      <td>3</td>\n",
       "      <td>311</td>\n",
       "      <td>2</td>\n",
       "    </tr>\n",
       "    <tr>\n",
       "      <th>3</th>\n",
       "      <td>3.91</td>\n",
       "      <td>3</td>\n",
       "      <td>307</td>\n",
       "      <td>3</td>\n",
       "    </tr>\n",
       "    <tr>\n",
       "      <th>12</th>\n",
       "      <td>3.93</td>\n",
       "      <td>3</td>\n",
       "      <td>329</td>\n",
       "      <td>2</td>\n",
       "    </tr>\n",
       "    <tr>\n",
       "      <th>...</th>\n",
       "      <td>...</td>\n",
       "      <td>...</td>\n",
       "      <td>...</td>\n",
       "      <td>...</td>\n",
       "    </tr>\n",
       "    <tr>\n",
       "      <th>71</th>\n",
       "      <td>63.39</td>\n",
       "      <td>25</td>\n",
       "      <td>303</td>\n",
       "      <td>3</td>\n",
       "    </tr>\n",
       "    <tr>\n",
       "      <th>72</th>\n",
       "      <td>64.10</td>\n",
       "      <td>25</td>\n",
       "      <td>305</td>\n",
       "      <td>3</td>\n",
       "    </tr>\n",
       "    <tr>\n",
       "      <th>86</th>\n",
       "      <td>68.34</td>\n",
       "      <td>30</td>\n",
       "      <td>402</td>\n",
       "      <td>2</td>\n",
       "    </tr>\n",
       "    <tr>\n",
       "      <th>84</th>\n",
       "      <td>71.22</td>\n",
       "      <td>30</td>\n",
       "      <td>400</td>\n",
       "      <td>2</td>\n",
       "    </tr>\n",
       "    <tr>\n",
       "      <th>85</th>\n",
       "      <td>85.05</td>\n",
       "      <td>30</td>\n",
       "      <td>401</td>\n",
       "      <td>1</td>\n",
       "    </tr>\n",
       "  </tbody>\n",
       "</table>\n",
       "<p>87 rows × 4 columns</p>\n",
       "</div>"
      ],
      "text/plain": [
       "    height  age  Seed  trunk_diameter\n",
       "13    3.46    3   331               2\n",
       "8     3.77    3   321               2\n",
       "5     3.88    3   311               2\n",
       "3     3.91    3   307               3\n",
       "12    3.93    3   329               2\n",
       "..     ...  ...   ...             ...\n",
       "71   63.39   25   303               3\n",
       "72   64.10   25   305               3\n",
       "86   68.34   30   402               2\n",
       "84   71.22   30   400               2\n",
       "85   85.05   30   401               1\n",
       "\n",
       "[87 rows x 4 columns]"
      ]
     },
     "execution_count": 17,
     "metadata": {},
     "output_type": "execute_result"
    }
   ],
   "source": [
    "loblolly_mod_2.sort_values(by='height').head()\n",
    "loblolly_mod_2.nlargest(6, 'height')\n",
    "loblolly_mod_2.sort_values(by=['height', 'age'])"
   ]
  },
  {
   "cell_type": "markdown",
   "id": "27f2b3ef-e853-49fd-800d-40e1e86a441f",
   "metadata": {},
   "source": [
    "## Manual Sampling"
   ]
  },
  {
   "cell_type": "code",
   "execution_count": 18,
   "id": "a086a6d3-7ff5-4845-9c33-39e4b096e77d",
   "metadata": {},
   "outputs": [
    {
     "data": {
      "text/html": [
       "<div>\n",
       "<style scoped>\n",
       "    .dataframe tbody tr th:only-of-type {\n",
       "        vertical-align: middle;\n",
       "    }\n",
       "\n",
       "    .dataframe tbody tr th {\n",
       "        vertical-align: top;\n",
       "    }\n",
       "\n",
       "    .dataframe thead th {\n",
       "        text-align: right;\n",
       "    }\n",
       "</style>\n",
       "<table border=\"1\" class=\"dataframe\">\n",
       "  <thead>\n",
       "    <tr style=\"text-align: right;\">\n",
       "      <th></th>\n",
       "      <th>height</th>\n",
       "      <th>age</th>\n",
       "      <th>Seed</th>\n",
       "      <th>trunk_diameter</th>\n",
       "    </tr>\n",
       "  </thead>\n",
       "  <tbody>\n",
       "    <tr>\n",
       "      <th>24</th>\n",
       "      <td>10.48</td>\n",
       "      <td>5</td>\n",
       "      <td>325</td>\n",
       "      <td>1</td>\n",
       "    </tr>\n",
       "    <tr>\n",
       "      <th>80</th>\n",
       "      <td>58.49</td>\n",
       "      <td>25</td>\n",
       "      <td>325</td>\n",
       "      <td>1</td>\n",
       "    </tr>\n",
       "    <tr>\n",
       "      <th>55</th>\n",
       "      <td>39.15</td>\n",
       "      <td>15</td>\n",
       "      <td>331</td>\n",
       "      <td>3</td>\n",
       "    </tr>\n",
       "    <tr>\n",
       "      <th>58</th>\n",
       "      <td>55.82</td>\n",
       "      <td>20</td>\n",
       "      <td>305</td>\n",
       "      <td>2</td>\n",
       "    </tr>\n",
       "    <tr>\n",
       "      <th>7</th>\n",
       "      <td>4.57</td>\n",
       "      <td>3</td>\n",
       "      <td>319</td>\n",
       "      <td>1</td>\n",
       "    </tr>\n",
       "  </tbody>\n",
       "</table>\n",
       "</div>"
      ],
      "text/plain": [
       "    height  age  Seed  trunk_diameter\n",
       "24   10.48    5   325               1\n",
       "80   58.49   25   325               1\n",
       "55   39.15   15   331               3\n",
       "58   55.82   20   305               2\n",
       "7     4.57    3   319               1"
      ]
     },
     "execution_count": 18,
     "metadata": {},
     "output_type": "execute_result"
    }
   ],
   "source": [
    "sample_size = int(len(loblolly_mod_2.index) * 0.1)\n",
    "sample = loblolly_mod_2.sample(n=sample_size, replace=False)\n",
    "sample.head()"
   ]
  },
  {
   "cell_type": "markdown",
   "id": "0f448a79-f20e-40e9-bef4-127a765c8f28",
   "metadata": {},
   "source": [
    "## Convert to Categorical Type"
   ]
  },
  {
   "cell_type": "code",
   "execution_count": 19,
   "id": "f48580a3-0a50-4b33-b380-7f965850be8d",
   "metadata": {},
   "outputs": [
    {
     "data": {
      "text/plain": [
       "height             float64\n",
       "age                  int64\n",
       "Seed              category\n",
       "trunk_diameter       int32\n",
       "dtype: object"
      ]
     },
     "execution_count": 19,
     "metadata": {},
     "output_type": "execute_result"
    }
   ],
   "source": [
    "loblolly_mod_2['Seed'] = loblolly_mod_2['Seed'].astype('category')\n",
    "loblolly_mod_2.dtypes"
   ]
  },
  {
   "cell_type": "markdown",
   "id": "527dac86-5171-4878-a61f-42a8d9c011f9",
   "metadata": {},
   "source": [
    "## DateTime Example with Tennis Dataset"
   ]
  },
  {
   "cell_type": "code",
   "execution_count": 20,
   "id": "b264d31a-2c17-46c8-8e7c-d376354d5292",
   "metadata": {},
   "outputs": [
    {
     "data": {
      "text/plain": [
       "rownames                int64\n",
       "server                 object\n",
       "sec_between             int64\n",
       "opponent               object\n",
       "game_score             object\n",
       "set                     int64\n",
       "game                   object\n",
       "date           datetime64[ns]\n",
       "dtype: object"
      ]
     },
     "execution_count": 20,
     "metadata": {},
     "output_type": "execute_result"
    }
   ],
   "source": [
    "tennis = pd.read_csv(\"tennis_serve_time.csv\")\n",
    "tennis['date'] = pd.to_datetime(tennis['date'])\n",
    "tennis.dtypes"
   ]
  },
  {
   "cell_type": "markdown",
   "id": "f25ac393-0d3d-47af-85cd-0228171204cc",
   "metadata": {},
   "source": [
    "## K-Fold Split Example"
   ]
  },
  {
   "cell_type": "code",
   "execution_count": 21,
   "id": "13459792-b320-4fb3-8fbd-92a077c822f8",
   "metadata": {},
   "outputs": [
    {
     "name": "stdout",
     "output_type": "stream",
     "text": [
      "TRAIN: [44 45 46 47 48 49 50 51 52 53 54 55 56 57 58 59 60 61 62 63 64 65 66 67\n",
      " 68 69 70 71 72 73 74 75 76 77 78 79 80 81 82 83 84 85 86] TEST: [ 0  1  2  3  4  5  6  7  8  9 10 11 12 13 14 15 16 17 18 19 20 21 22 23\n",
      " 24 25 26 27 28 29 30 31 32 33 34 35 36 37 38 39 40 41 42 43]\n"
     ]
    }
   ],
   "source": [
    "kf = KFold(n_splits=2)\n",
    "for train_index, test_index in kf.split(loblolly_mod_2):\n",
    "    print(\"TRAIN:\", train_index, \"TEST:\", test_index)\n",
    "    break  "
   ]
  },
  {
   "cell_type": "markdown",
   "id": "42313fb1-4e84-412d-b950-826532db7868",
   "metadata": {},
   "source": [
    "## References"
   ]
  },
  {
   "cell_type": "markdown",
   "id": "66e450dc-3475-4303-87e7-f9f49e044e45",
   "metadata": {},
   "source": [
    "- [pandas Docs](https://pandas.pydata.org)  \n",
    "- [scikit-learn Docs](https://scikit-learn.org)  \n",
    "- ChatGPT (OpenAI) – Cell copying and importing issues. (see accompanying screenshots)"
   ]
  },
  {
   "cell_type": "code",
   "execution_count": null,
   "id": "752c949e-3048-4c58-a6f4-0e858914079a",
   "metadata": {},
   "outputs": [],
   "source": []
  }
 ],
 "metadata": {
  "kernelspec": {
   "display_name": "Python 3 (ipykernel)",
   "language": "python",
   "name": "python3"
  },
  "language_info": {
   "codemirror_mode": {
    "name": "ipython",
    "version": 3
   },
   "file_extension": ".py",
   "mimetype": "text/x-python",
   "name": "python",
   "nbconvert_exporter": "python",
   "pygments_lexer": "ipython3",
   "version": "3.13.2"
  }
 },
 "nbformat": 4,
 "nbformat_minor": 5
}
