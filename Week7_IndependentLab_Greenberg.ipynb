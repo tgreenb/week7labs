{
 "cells": [
  {
   "cell_type": "markdown",
   "id": "d4ec6b02-dd52-4828-8fa9-fe4c8616bfe1",
   "metadata": {},
   "source": [
    "# Week 7 Independent Lab: Hospital Data Manipulation  \n",
    "**Author:** Thomas J. Greenberg  \n",
    "**Course:** BGEN632 – Graduate Introduction to Python  \n",
    "**Term:** Spring 2025  \n",
    "**Date:** April 15, 2025  \n"
   ]
  },
  {
   "cell_type": "markdown",
   "id": "f7fd7f2e-780f-407a-aff9-ace243fca14b",
   "metadata": {},
   "source": [
    "---  \n",
    "\n",
    "  ## Overview and Methods \n",
    "\n",
    "This notebook simulates pre-processing for assessing hospitals.  \n",
    "\n",
    "- Import and inspect structured `.csv` and `.txt` files  \n",
    "- Clean and transform datasets with `pandas`  \n",
    "- Simulate data expansion using row/column insertion  \n",
    "- Perform filtering, sorting, sampling, and merging operations  \n",
    "- Apply basic model preparation techniques using `KFold`\n",
    "\n",
    "### Tools & Libraries  \n",
    "- Python (Jupyter Notebook)  \n",
    "- pandas, numpy  \n",
    "- scikit-learn (`KFold`)  \n",
    "\n"
   ]
  },
  {
   "cell_type": "code",
   "execution_count": 1,
   "id": "399e70bf-6b9c-4a37-b485-04322e34989e",
   "metadata": {},
   "outputs": [],
   "source": [
    "import os\n",
    "import pandas as pd\n",
    "import numpy as np\n",
    "from sklearn.model_selection import KFold"
   ]
  },
  {
   "cell_type": "code",
   "execution_count": 2,
   "id": "9ffb01c4-1da8-4665-bbf2-c76b4aed1ef4",
   "metadata": {},
   "outputs": [
    {
     "name": "stdout",
     "output_type": "stream",
     "text": [
      "Current working directory: C:\\MySystem\\School\\Python\\GitHubStuff\\week7labs\\data\n"
     ]
    }
   ],
   "source": [
    "os.chdir(\"C:/MySystem/School/Python/GitHubStuff/week7labs/data\")\n",
    "print(\"Current working directory:\", os.getcwd())"
   ]
  },
  {
   "cell_type": "markdown",
   "id": "77d03250-0c23-4c28-a417-465abdacb038",
   "metadata": {},
   "source": [
    "## Load Hospital Datasets  \n",
    "Use `pd.read_csv()` to import both the hospital and personnel data.  \n",
    "Confirm proper delimiters: `.csv` uses commas, `.txt` uses tabs (`sep=\"\\t\"`)."
   ]
  },
  {
   "cell_type": "code",
   "execution_count": 3,
   "id": "ac5ef0e9-e786-4770-850b-6c88a87f06a5",
   "metadata": {},
   "outputs": [],
   "source": [
    "hospitals = pd.read_csv(\"CaliforniaHospitalData.csv\")\n",
    "personnel = pd.read_csv(\"CaliforniaHospitalData_Personnel.txt\", sep=\"\\t\")"
   ]
  },
  {
   "cell_type": "markdown",
   "id": "2f2bf75d-970c-4c6e-a696-db9a7c51a8e4",
   "metadata": {},
   "source": [
    "## Inspect Dataset Structure  \n",
    "Check dimensions, column names, and data types using `.shape`, `.columns`, and `.info()`.  \n",
    "Verify both datasets (`hospitals` and `personnel`) are properly loaded."
   ]
  },
  {
   "cell_type": "code",
   "execution_count": 4,
   "id": "54989c05-31af-4f43-8e31-953a3d39bfd3",
   "metadata": {},
   "outputs": [
    {
     "name": "stdout",
     "output_type": "stream",
     "text": [
      "(61, 14)\n",
      "Index(['HospitalID', 'Name', 'Zip', 'Website', 'TypeControl', 'Teaching',\n",
      "       'DonorType', 'NoFTE', 'NetPatRev', 'InOperExp', 'OutOperExp', 'OperRev',\n",
      "       'OperInc', 'AvlBeds'],\n",
      "      dtype='object')\n",
      "<class 'pandas.core.frame.DataFrame'>\n",
      "RangeIndex: 61 entries, 0 to 60\n",
      "Data columns (total 14 columns):\n",
      " #   Column       Non-Null Count  Dtype  \n",
      "---  ------       --------------  -----  \n",
      " 0   HospitalID   61 non-null     int64  \n",
      " 1   Name         61 non-null     object \n",
      " 2   Zip          61 non-null     object \n",
      " 3   Website      61 non-null     object \n",
      " 4   TypeControl  61 non-null     object \n",
      " 5   Teaching     61 non-null     object \n",
      " 6   DonorType    61 non-null     object \n",
      " 7   NoFTE        61 non-null     float64\n",
      " 8   NetPatRev    61 non-null     float64\n",
      " 9   InOperExp    61 non-null     float64\n",
      " 10  OutOperExp   61 non-null     float64\n",
      " 11  OperRev      61 non-null     int64  \n",
      " 12  OperInc      61 non-null     int64  \n",
      " 13  AvlBeds      61 non-null     int64  \n",
      "dtypes: float64(4), int64(4), object(6)\n",
      "memory usage: 6.8+ KB\n",
      "<class 'pandas.core.frame.DataFrame'>\n",
      "RangeIndex: 64 entries, 0 to 63\n",
      "Data columns (total 12 columns):\n",
      " #   Column         Non-Null Count  Dtype \n",
      "---  ------         --------------  ----- \n",
      " 0   HospitalID     64 non-null     int64 \n",
      " 1   Work_ID        64 non-null     int64 \n",
      " 2   LastName       64 non-null     object\n",
      " 3   FirstName      64 non-null     object\n",
      " 4   Gender         64 non-null     object\n",
      " 5   PositionID     64 non-null     int64 \n",
      " 6   PositionTitle  64 non-null     object\n",
      " 7   Compensation   64 non-null     int64 \n",
      " 8   MaxTerm        64 non-null     int64 \n",
      " 9   StartDate      64 non-null     object\n",
      " 10  Phone          64 non-null     object\n",
      " 11  Email          64 non-null     object\n",
      "dtypes: int64(5), object(7)\n",
      "memory usage: 6.1+ KB\n"
     ]
    }
   ],
   "source": [
    "print(hospitals.shape)\n",
    "print(hospitals.columns)\n",
    "hospitals.info()\n",
    "personnel.info()"
   ]
  },
  {
   "cell_type": "markdown",
   "id": "4abf17a1-4392-42cc-bc84-bfd0bcf98623",
   "metadata": {},
   "source": [
    "## Indexing and Slicing with `.iloc[]`  \n",
    "Use `.iloc[]` to retrieve rows and columns by position.  \n",
    "We'll preview the first 5 rows and select a few rows/columns by index."
   ]
  },
  {
   "cell_type": "code",
   "execution_count": 5,
   "id": "0f477cf7-7f2b-4c6c-b675-1f45cf928d2f",
   "metadata": {},
   "outputs": [
    {
     "data": {
      "text/html": [
       "<div>\n",
       "<style scoped>\n",
       "    .dataframe tbody tr th:only-of-type {\n",
       "        vertical-align: middle;\n",
       "    }\n",
       "\n",
       "    .dataframe tbody tr th {\n",
       "        vertical-align: top;\n",
       "    }\n",
       "\n",
       "    .dataframe thead th {\n",
       "        text-align: right;\n",
       "    }\n",
       "</style>\n",
       "<table border=\"1\" class=\"dataframe\">\n",
       "  <thead>\n",
       "    <tr style=\"text-align: right;\">\n",
       "      <th></th>\n",
       "      <th>Name</th>\n",
       "      <th>Website</th>\n",
       "    </tr>\n",
       "  </thead>\n",
       "  <tbody>\n",
       "    <tr>\n",
       "      <th>0</th>\n",
       "      <td>Mammoth Hospital</td>\n",
       "      <td>www.mammothhospital.com</td>\n",
       "    </tr>\n",
       "    <tr>\n",
       "      <th>2</th>\n",
       "      <td>Pioneers Memorial Hospital</td>\n",
       "      <td>www.pmhd.org</td>\n",
       "    </tr>\n",
       "    <tr>\n",
       "      <th>4</th>\n",
       "      <td>Barstow Community Hospital</td>\n",
       "      <td>www.barstowhospital.com</td>\n",
       "    </tr>\n",
       "  </tbody>\n",
       "</table>\n",
       "</div>"
      ],
      "text/plain": [
       "                         Name                  Website\n",
       "0            Mammoth Hospital  www.mammothhospital.com\n",
       "2  Pioneers Memorial Hospital             www.pmhd.org\n",
       "4  Barstow Community Hospital  www.barstowhospital.com"
      ]
     },
     "execution_count": 5,
     "metadata": {},
     "output_type": "execute_result"
    }
   ],
   "source": [
    "hospitals.iloc[:5]  \n",
    "hospitals.iloc[[0, 2, 4], [1, 3]]"
   ]
  },
  {
   "cell_type": "markdown",
   "id": "ea8cf268-23c1-4fe1-82fd-f72815115be3",
   "metadata": {},
   "source": [
    "## Indexing and Slicing with `.loc[]`  \n",
    "Use `.loc[]` to retrieve rows and columns by name.  \n",
    "This is helpful for selecting ranges by column label or filtering columns like `'Hospital Name'` or `'City'`."
   ]
  },
  {
   "cell_type": "code",
   "execution_count": 6,
   "id": "3edcd77d-8ad8-47a6-992d-ea6b9cd2dd29",
   "metadata": {},
   "outputs": [
    {
     "data": {
      "text/html": [
       "<div>\n",
       "<style scoped>\n",
       "    .dataframe tbody tr th:only-of-type {\n",
       "        vertical-align: middle;\n",
       "    }\n",
       "\n",
       "    .dataframe tbody tr th {\n",
       "        vertical-align: top;\n",
       "    }\n",
       "\n",
       "    .dataframe thead th {\n",
       "        text-align: right;\n",
       "    }\n",
       "</style>\n",
       "<table border=\"1\" class=\"dataframe\">\n",
       "  <thead>\n",
       "    <tr style=\"text-align: right;\">\n",
       "      <th></th>\n",
       "      <th>Name</th>\n",
       "      <th>Zip</th>\n",
       "    </tr>\n",
       "  </thead>\n",
       "  <tbody>\n",
       "    <tr>\n",
       "      <th>0</th>\n",
       "      <td>Mammoth Hospital</td>\n",
       "      <td>93546-0660</td>\n",
       "    </tr>\n",
       "    <tr>\n",
       "      <th>1</th>\n",
       "      <td>Victor Valley Community Hospital</td>\n",
       "      <td>92392</td>\n",
       "    </tr>\n",
       "    <tr>\n",
       "      <th>2</th>\n",
       "      <td>Pioneers Memorial Hospital</td>\n",
       "      <td>92227</td>\n",
       "    </tr>\n",
       "    <tr>\n",
       "      <th>3</th>\n",
       "      <td>Ridgecrest Regional Hospital</td>\n",
       "      <td>93555</td>\n",
       "    </tr>\n",
       "  </tbody>\n",
       "</table>\n",
       "</div>"
      ],
      "text/plain": [
       "                               Name         Zip\n",
       "0                  Mammoth Hospital  93546-0660\n",
       "1  Victor Valley Community Hospital       92392\n",
       "2        Pioneers Memorial Hospital       92227\n",
       "3      Ridgecrest Regional Hospital       93555"
      ]
     },
     "execution_count": 6,
     "metadata": {},
     "output_type": "execute_result"
    }
   ],
   "source": [
    "hospitals.loc[:, 'Name']  \n",
    "hospitals.loc[0:3, ['Name', 'Zip']] "
   ]
  },
  {
   "cell_type": "markdown",
   "id": "61084e2a-5988-4b00-95e2-b786e9233bab",
   "metadata": {},
   "source": [
    "## Unique Values and Metadata  \n",
    "Use `.dtypes` to review variable types and `.shape` to check dimensions.  \n",
    "**Note:** The `\"County Name\"` column is not present in the provided dataset. "
   ]
  },
  {
   "cell_type": "code",
   "execution_count": 10,
   "id": "9de0e60c-84e5-4df0-a153-01f5dc768f52",
   "metadata": {},
   "outputs": [
    {
     "data": {
      "text/plain": [
       "HospitalID       int64\n",
       "Name            object\n",
       "Zip             object\n",
       "Website         object\n",
       "TypeControl     object\n",
       "Teaching        object\n",
       "DonorType       object\n",
       "NoFTE          float64\n",
       "NetPatRev      float64\n",
       "InOperExp      float64\n",
       "OutOperExp     float64\n",
       "OperRev          int64\n",
       "OperInc          int64\n",
       "AvlBeds          int64\n",
       "dtype: object"
      ]
     },
     "execution_count": 10,
     "metadata": {},
     "output_type": "execute_result"
    }
   ],
   "source": [
    "len(hospitals.index), len(hospitals.columns)\n",
    "hospitals.dtypes"
   ]
  },
  {
   "cell_type": "markdown",
   "id": "e63f3e3c-b6f0-47c0-9041-011221d8596f",
   "metadata": {},
   "source": [
    "## Check for Missing Values  \n",
    "Use `.isnull().sum()` and `.notnull().sum()` to inspect the dataset for any missing or invalid entries."
   ]
  },
  {
   "cell_type": "code",
   "execution_count": 11,
   "id": "bed2e7bc-8e6b-40da-81b8-1422ca054405",
   "metadata": {},
   "outputs": [
    {
     "data": {
      "text/plain": [
       "HospitalID     61\n",
       "Name           61\n",
       "Zip            61\n",
       "Website        61\n",
       "TypeControl    61\n",
       "Teaching       61\n",
       "DonorType      61\n",
       "NoFTE          61\n",
       "NetPatRev      61\n",
       "InOperExp      61\n",
       "OutOperExp     61\n",
       "OperRev        61\n",
       "OperInc        61\n",
       "AvlBeds        61\n",
       "dtype: int64"
      ]
     },
     "execution_count": 11,
     "metadata": {},
     "output_type": "execute_result"
    }
   ],
   "source": [
    "hospitals.isnull().sum()\n",
    "hospitals.notnull().sum()"
   ]
  },
  {
   "cell_type": "markdown",
   "id": "fd61f377-7e6d-4877-a2db-13c07b387f10",
   "metadata": {},
   "source": [
    "## Add New Rows (Simulation)  \n",
    "Create a new DataFrame with mock hospitals and combine it with the original using `pd.concat()`.  \n",
    "This simulates expanding the dataset without modifying the original.\n"
   ]
  },
  {
   "cell_type": "code",
   "execution_count": 12,
   "id": "bfa8921a-9d4a-4dfe-be02-3122a6bd072c",
   "metadata": {},
   "outputs": [],
   "source": [
    "new_rows = pd.DataFrame({\n",
    "    'Name': [\"Sacred Heart Hospital\", \"New Sacred Heart\"],\n",
    "    'Zip': [\"90210\", \"90211\"],\n",
    "    'Website': [\"www.sacredheart.org\", \"www.newsacredheart.org\"],\n",
    "    'TypeControl': [\"Non-Profit\", \"Private\"],\n",
    "    'Teaching': [\"Yes\", \"Yes\"],\n",
    "    'DonorType': [\"Community\", \"Corporate\"],\n",
    "    'NoFTE': [275.0, 190.0],\n",
    "    'NetPatRev': [950000.0, 750000.0],\n",
    "    'InOperExp': [300000.0, 240000.0],\n",
    "    'OutOperExp': [160000.0, 120000.0],\n",
    "    'OperRev': [620000.0, 510000.0],\n",
    "    'OperInc': [160000, 150000],\n",
    "    'AvlBeds': [110, 95]\n",
    "})\n",
    "\n",
    "hospitals_mod_1 = pd.concat([hospitals, new_rows], ignore_index=True)"
   ]
  },
  {
   "cell_type": "markdown",
   "id": "b330b99a-560d-4194-ac73-1bea5d8ab1d7",
   "metadata": {},
   "source": [
    "## Add New Column  \n",
    "Use `np.random.randint()` to generate a new column simulating experimental group assignment.  \n",
    "Combine it with the modified dataset using `pd.concat(axis=1)`."
   ]
  },
  {
   "cell_type": "code",
   "execution_count": 13,
   "id": "4808c873-600e-4578-ae10-f0623b2f2324",
   "metadata": {},
   "outputs": [],
   "source": [
    "attendings = pd.DataFrame({\n",
    "    'Assigned Attending': np.random.choice([\"Dr. Cox\", \"Dr. Turk\"], size=len(hospitals_mod_1))\n",
    "})\n",
    "\n",
    "hospitals_mod_2 = pd.concat([hospitals_mod_1, attendings], axis=1)"
   ]
  },
  {
   "cell_type": "markdown",
   "id": "e8cb6867-f2a4-49d6-96e8-bc51b7ae793c",
   "metadata": {},
   "source": [
    "## Rename Columns  \n",
    "Use `.rename()` with `inplace=True` to update column names directly. Here, we rename `\"Website\"` to `\"HospitalURL\"`. "
   ]
  },
  {
   "cell_type": "code",
   "execution_count": 16,
   "id": "8f786836-ac58-426d-9a65-8ba4886462a1",
   "metadata": {},
   "outputs": [],
   "source": [
    "hospitals_mod_2.rename(columns={'Website': 'HospitalURL'}, inplace=True)"
   ]
  },
  {
   "cell_type": "markdown",
   "id": "46a9d1fc-c1dc-4a33-82c9-fdeb89b895b2",
   "metadata": {},
   "source": [
    "## Sort Data  \n",
    "Use `.sort_values()` to sort alphabetically and `.nlargest()` to find top numeric values.  \n",
    "Here, we sort by hospital name and show hospitals with the highest operating income."
   ]
  },
  {
   "cell_type": "code",
   "execution_count": 17,
   "id": "ac6603ca-fa74-4554-a57e-4d529379ea01",
   "metadata": {},
   "outputs": [
    {
     "data": {
      "text/html": [
       "<div>\n",
       "<style scoped>\n",
       "    .dataframe tbody tr th:only-of-type {\n",
       "        vertical-align: middle;\n",
       "    }\n",
       "\n",
       "    .dataframe tbody tr th {\n",
       "        vertical-align: top;\n",
       "    }\n",
       "\n",
       "    .dataframe thead th {\n",
       "        text-align: right;\n",
       "    }\n",
       "</style>\n",
       "<table border=\"1\" class=\"dataframe\">\n",
       "  <thead>\n",
       "    <tr style=\"text-align: right;\">\n",
       "      <th></th>\n",
       "      <th>HospitalID</th>\n",
       "      <th>Name</th>\n",
       "      <th>Zip</th>\n",
       "      <th>HospitalURL</th>\n",
       "      <th>TypeControl</th>\n",
       "      <th>Teaching</th>\n",
       "      <th>DonorType</th>\n",
       "      <th>NoFTE</th>\n",
       "      <th>NetPatRev</th>\n",
       "      <th>InOperExp</th>\n",
       "      <th>OutOperExp</th>\n",
       "      <th>OperRev</th>\n",
       "      <th>OperInc</th>\n",
       "      <th>AvlBeds</th>\n",
       "      <th>Assigned Attending</th>\n",
       "    </tr>\n",
       "  </thead>\n",
       "  <tbody>\n",
       "    <tr>\n",
       "      <th>60</th>\n",
       "      <td>38900.0</td>\n",
       "      <td>Cedars-Sinai Medical Center</td>\n",
       "      <td>90048</td>\n",
       "      <td>www.csmc.edu</td>\n",
       "      <td>Non Profit</td>\n",
       "      <td>Teaching</td>\n",
       "      <td>Alumni</td>\n",
       "      <td>8000.0</td>\n",
       "      <td>4662581.617</td>\n",
       "      <td>1.285631e+09</td>\n",
       "      <td>461675838.2</td>\n",
       "      <td>1.912179e+09</td>\n",
       "      <td>164872413</td>\n",
       "      <td>909</td>\n",
       "      <td>Dr. Turk</td>\n",
       "    </tr>\n",
       "    <tr>\n",
       "      <th>54</th>\n",
       "      <td>39102.0</td>\n",
       "      <td>UCSD Medical Center - Hillcrest</td>\n",
       "      <td>92103-8970</td>\n",
       "      <td>www.health.ucsd.edu</td>\n",
       "      <td>Non Profit</td>\n",
       "      <td>Teaching</td>\n",
       "      <td>Alumni</td>\n",
       "      <td>3892.0</td>\n",
       "      <td>2428730.281</td>\n",
       "      <td>4.629341e+08</td>\n",
       "      <td>332127550.7</td>\n",
       "      <td>9.411088e+08</td>\n",
       "      <td>146047105</td>\n",
       "      <td>527</td>\n",
       "      <td>Dr. Turk</td>\n",
       "    </tr>\n",
       "    <tr>\n",
       "      <th>59</th>\n",
       "      <td>33192.0</td>\n",
       "      <td>California Pacific Medical Center - Pacific Ca...</td>\n",
       "      <td>94115</td>\n",
       "      <td>www.cpmc.org</td>\n",
       "      <td>Non Profit</td>\n",
       "      <td>Teaching</td>\n",
       "      <td>Alumni</td>\n",
       "      <td>1565.1</td>\n",
       "      <td>2736281.415</td>\n",
       "      <td>6.337903e+08</td>\n",
       "      <td>296020659.9</td>\n",
       "      <td>1.074257e+09</td>\n",
       "      <td>144445998</td>\n",
       "      <td>730</td>\n",
       "      <td>Dr. Cox</td>\n",
       "    </tr>\n",
       "    <tr>\n",
       "      <th>58</th>\n",
       "      <td>22460.0</td>\n",
       "      <td>Stanford Hospital &amp; Clinics</td>\n",
       "      <td>94305</td>\n",
       "      <td>stanfordhospital.org</td>\n",
       "      <td>Non Profit</td>\n",
       "      <td>Teaching</td>\n",
       "      <td>Alumni</td>\n",
       "      <td>6392.0</td>\n",
       "      <td>4333934.423</td>\n",
       "      <td>9.289621e+08</td>\n",
       "      <td>662155885.7</td>\n",
       "      <td>1.650392e+09</td>\n",
       "      <td>59273999</td>\n",
       "      <td>445</td>\n",
       "      <td>Dr. Turk</td>\n",
       "    </tr>\n",
       "    <tr>\n",
       "      <th>44</th>\n",
       "      <td>39076.0</td>\n",
       "      <td>UC Irvine Medical Center</td>\n",
       "      <td>92868</td>\n",
       "      <td>www.healthcare.uci.edu</td>\n",
       "      <td>Non Profit</td>\n",
       "      <td>Teaching</td>\n",
       "      <td>Alumni</td>\n",
       "      <td>3151.0</td>\n",
       "      <td>1476284.836</td>\n",
       "      <td>3.805823e+08</td>\n",
       "      <td>117664293.6</td>\n",
       "      <td>5.521075e+08</td>\n",
       "      <td>53860958</td>\n",
       "      <td>363</td>\n",
       "      <td>Dr. Turk</td>\n",
       "    </tr>\n",
       "  </tbody>\n",
       "</table>\n",
       "</div>"
      ],
      "text/plain": [
       "    HospitalID                                               Name         Zip  \\\n",
       "60     38900.0                        Cedars-Sinai Medical Center       90048   \n",
       "54     39102.0                    UCSD Medical Center - Hillcrest  92103-8970   \n",
       "59     33192.0  California Pacific Medical Center - Pacific Ca...       94115   \n",
       "58     22460.0                        Stanford Hospital & Clinics       94305   \n",
       "44     39076.0                           UC Irvine Medical Center       92868   \n",
       "\n",
       "               HospitalURL TypeControl  Teaching DonorType   NoFTE  \\\n",
       "60            www.csmc.edu  Non Profit  Teaching    Alumni  8000.0   \n",
       "54     www.health.ucsd.edu  Non Profit  Teaching    Alumni  3892.0   \n",
       "59            www.cpmc.org  Non Profit  Teaching    Alumni  1565.1   \n",
       "58    stanfordhospital.org  Non Profit  Teaching    Alumni  6392.0   \n",
       "44  www.healthcare.uci.edu  Non Profit  Teaching    Alumni  3151.0   \n",
       "\n",
       "      NetPatRev     InOperExp   OutOperExp       OperRev    OperInc  AvlBeds  \\\n",
       "60  4662581.617  1.285631e+09  461675838.2  1.912179e+09  164872413      909   \n",
       "54  2428730.281  4.629341e+08  332127550.7  9.411088e+08  146047105      527   \n",
       "59  2736281.415  6.337903e+08  296020659.9  1.074257e+09  144445998      730   \n",
       "58  4333934.423  9.289621e+08  662155885.7  1.650392e+09   59273999      445   \n",
       "44  1476284.836  3.805823e+08  117664293.6  5.521075e+08   53860958      363   \n",
       "\n",
       "   Assigned Attending  \n",
       "60           Dr. Turk  \n",
       "54           Dr. Turk  \n",
       "59            Dr. Cox  \n",
       "58           Dr. Turk  \n",
       "44           Dr. Turk  "
      ]
     },
     "execution_count": 17,
     "metadata": {},
     "output_type": "execute_result"
    }
   ],
   "source": [
    "hospitals_mod_2.sort_values(by='Name').head()\n",
    "hospitals_mod_2.nlargest(5, 'OperInc')"
   ]
  },
  {
   "cell_type": "markdown",
   "id": "56faff7b-b5ab-4e78-ba56-dbd9a93bfc95",
   "metadata": {},
   "source": [
    "## Manual Sampling  \n",
    "Calculate 10% of the dataset size, round it, and sample that number of rows using `.sample()`.  \n",
    "This ensures reproducibility for **manual sample size computation**."
   ]
  },
  {
   "cell_type": "code",
   "execution_count": 18,
   "id": "99bb5f52-1e3a-4a67-948f-89a531a59139",
   "metadata": {},
   "outputs": [
    {
     "data": {
      "text/html": [
       "<div>\n",
       "<style scoped>\n",
       "    .dataframe tbody tr th:only-of-type {\n",
       "        vertical-align: middle;\n",
       "    }\n",
       "\n",
       "    .dataframe tbody tr th {\n",
       "        vertical-align: top;\n",
       "    }\n",
       "\n",
       "    .dataframe thead th {\n",
       "        text-align: right;\n",
       "    }\n",
       "</style>\n",
       "<table border=\"1\" class=\"dataframe\">\n",
       "  <thead>\n",
       "    <tr style=\"text-align: right;\">\n",
       "      <th></th>\n",
       "      <th>HospitalID</th>\n",
       "      <th>Name</th>\n",
       "      <th>Zip</th>\n",
       "      <th>HospitalURL</th>\n",
       "      <th>TypeControl</th>\n",
       "      <th>Teaching</th>\n",
       "      <th>DonorType</th>\n",
       "      <th>NoFTE</th>\n",
       "      <th>NetPatRev</th>\n",
       "      <th>InOperExp</th>\n",
       "      <th>OutOperExp</th>\n",
       "      <th>OperRev</th>\n",
       "      <th>OperInc</th>\n",
       "      <th>AvlBeds</th>\n",
       "      <th>Assigned Attending</th>\n",
       "    </tr>\n",
       "  </thead>\n",
       "  <tbody>\n",
       "    <tr>\n",
       "      <th>61</th>\n",
       "      <td>NaN</td>\n",
       "      <td>Sacred Heart Hospital</td>\n",
       "      <td>90210</td>\n",
       "      <td>www.sacredheart.org</td>\n",
       "      <td>Non-Profit</td>\n",
       "      <td>Yes</td>\n",
       "      <td>Community</td>\n",
       "      <td>275.0</td>\n",
       "      <td>9.500000e+05</td>\n",
       "      <td>3.000000e+05</td>\n",
       "      <td>1.600000e+05</td>\n",
       "      <td>620000.0</td>\n",
       "      <td>160000</td>\n",
       "      <td>110</td>\n",
       "      <td>Dr. Cox</td>\n",
       "    </tr>\n",
       "    <tr>\n",
       "      <th>57</th>\n",
       "      <td>31032.0</td>\n",
       "      <td>Long Beach Memorial &amp; Miller Children's Hospital</td>\n",
       "      <td>90806</td>\n",
       "      <td>www.memorialcare.org</td>\n",
       "      <td>Non Profit</td>\n",
       "      <td>Teaching</td>\n",
       "      <td>Alumni</td>\n",
       "      <td>5218.0</td>\n",
       "      <td>1.187022e+06</td>\n",
       "      <td>2.912481e+08</td>\n",
       "      <td>1.093286e+08</td>\n",
       "      <td>439084836.0</td>\n",
       "      <td>38508125</td>\n",
       "      <td>462</td>\n",
       "      <td>Dr. Cox</td>\n",
       "    </tr>\n",
       "    <tr>\n",
       "      <th>0</th>\n",
       "      <td>45740.0</td>\n",
       "      <td>Mammoth Hospital</td>\n",
       "      <td>93546-0660</td>\n",
       "      <td>www.mammothhospital.com</td>\n",
       "      <td>District</td>\n",
       "      <td>Small/Rural</td>\n",
       "      <td>Charity</td>\n",
       "      <td>327.0</td>\n",
       "      <td>1.355202e+05</td>\n",
       "      <td>2.052343e+07</td>\n",
       "      <td>3.491622e+07</td>\n",
       "      <td>49933713.0</td>\n",
       "      <td>-5505933</td>\n",
       "      <td>15</td>\n",
       "      <td>Dr. Cox</td>\n",
       "    </tr>\n",
       "    <tr>\n",
       "      <th>43</th>\n",
       "      <td>19868.0</td>\n",
       "      <td>Ojai Valley Community Hospital</td>\n",
       "      <td>93023-3163</td>\n",
       "      <td>www.cmhhospital.org</td>\n",
       "      <td>Non Profit</td>\n",
       "      <td>Small/Rural</td>\n",
       "      <td>Charity</td>\n",
       "      <td>180.0</td>\n",
       "      <td>5.950462e+04</td>\n",
       "      <td>1.195530e+07</td>\n",
       "      <td>1.032680e+07</td>\n",
       "      <td>22492281.0</td>\n",
       "      <td>210180</td>\n",
       "      <td>103</td>\n",
       "      <td>Dr. Turk</td>\n",
       "    </tr>\n",
       "    <tr>\n",
       "      <th>5</th>\n",
       "      <td>17741.0</td>\n",
       "      <td>St. Elizabeth Community Hospital</td>\n",
       "      <td>96080</td>\n",
       "      <td>redbluff.mercy.org/index.htm</td>\n",
       "      <td>Non Profit</td>\n",
       "      <td>Small/Rural</td>\n",
       "      <td>Charity</td>\n",
       "      <td>397.5</td>\n",
       "      <td>2.325030e+05</td>\n",
       "      <td>3.668289e+07</td>\n",
       "      <td>3.673926e+07</td>\n",
       "      <td>85808509.0</td>\n",
       "      <td>12386360</td>\n",
       "      <td>66</td>\n",
       "      <td>Dr. Turk</td>\n",
       "    </tr>\n",
       "  </tbody>\n",
       "</table>\n",
       "</div>"
      ],
      "text/plain": [
       "    HospitalID                                              Name         Zip  \\\n",
       "61         NaN                             Sacred Heart Hospital       90210   \n",
       "57     31032.0  Long Beach Memorial & Miller Children's Hospital       90806   \n",
       "0      45740.0                                  Mammoth Hospital  93546-0660   \n",
       "43     19868.0                    Ojai Valley Community Hospital  93023-3163   \n",
       "5      17741.0                  St. Elizabeth Community Hospital       96080   \n",
       "\n",
       "                     HospitalURL TypeControl     Teaching  DonorType   NoFTE  \\\n",
       "61           www.sacredheart.org  Non-Profit          Yes  Community   275.0   \n",
       "57          www.memorialcare.org  Non Profit     Teaching     Alumni  5218.0   \n",
       "0        www.mammothhospital.com    District  Small/Rural    Charity   327.0   \n",
       "43           www.cmhhospital.org  Non Profit  Small/Rural    Charity   180.0   \n",
       "5   redbluff.mercy.org/index.htm  Non Profit  Small/Rural    Charity   397.5   \n",
       "\n",
       "       NetPatRev     InOperExp    OutOperExp      OperRev   OperInc  AvlBeds  \\\n",
       "61  9.500000e+05  3.000000e+05  1.600000e+05     620000.0    160000      110   \n",
       "57  1.187022e+06  2.912481e+08  1.093286e+08  439084836.0  38508125      462   \n",
       "0   1.355202e+05  2.052343e+07  3.491622e+07   49933713.0  -5505933       15   \n",
       "43  5.950462e+04  1.195530e+07  1.032680e+07   22492281.0    210180      103   \n",
       "5   2.325030e+05  3.668289e+07  3.673926e+07   85808509.0  12386360       66   \n",
       "\n",
       "   Assigned Attending  \n",
       "61            Dr. Cox  \n",
       "57            Dr. Cox  \n",
       "0             Dr. Cox  \n",
       "43           Dr. Turk  \n",
       "5            Dr. Turk  "
      ]
     },
     "execution_count": 18,
     "metadata": {},
     "output_type": "execute_result"
    }
   ],
   "source": [
    "sample_size = int(np.round(len(hospitals_mod_2.index) * 0.1, 0))\n",
    "sample = hospitals_mod_2.sample(n=sample_size, random_state=42)\n",
    "sample.head()"
   ]
  },
  {
   "cell_type": "markdown",
   "id": "f3a0ecd6-aba7-49da-bce1-4c0d48387605",
   "metadata": {},
   "source": [
    "## Convert to Categorical  \n",
    "Convert the `\"TypeControl\"` column to categorical format using `.astype('category')`.  \n",
    "This helps optimize memory and correct filtering later."
   ]
  },
  {
   "cell_type": "code",
   "execution_count": 19,
   "id": "86eb983d-af31-48a1-95d7-05eff1a92099",
   "metadata": {},
   "outputs": [
    {
     "data": {
      "text/plain": [
       "HospitalID             float64\n",
       "Name                    object\n",
       "Zip                     object\n",
       "HospitalURL             object\n",
       "TypeControl           category\n",
       "Teaching                object\n",
       "DonorType               object\n",
       "NoFTE                  float64\n",
       "NetPatRev              float64\n",
       "InOperExp              float64\n",
       "OutOperExp             float64\n",
       "OperRev                float64\n",
       "OperInc                  int64\n",
       "AvlBeds                  int64\n",
       "Assigned Attending      object\n",
       "dtype: object"
      ]
     },
     "execution_count": 19,
     "metadata": {},
     "output_type": "execute_result"
    }
   ],
   "source": [
    "hospitals_mod_2['TypeControl'] = hospitals_mod_2['TypeControl'].astype('category')\n",
    "hospitals_mod_2.dtypes"
   ]
  },
  {
   "cell_type": "markdown",
   "id": "bc2931b4-b58d-41df-96ac-b20b77d7751d",
   "metadata": {},
   "source": [
    "## DateTime Conversion (Personnel Dataset)  \n",
    "Convert the `\"StartDate\"` column in the `personnel` dataset using `pd.to_datetime()`.  \n",
    "This ensures proper date formatting and catches invalid entries with `errors='coerce'`."
   ]
  },
  {
   "cell_type": "code",
   "execution_count": 20,
   "id": "9acd0550-27db-42dd-985f-a973596cc4fa",
   "metadata": {},
   "outputs": [
    {
     "data": {
      "text/plain": [
       "HospitalID                int64\n",
       "Work_ID                   int64\n",
       "LastName                 object\n",
       "FirstName                object\n",
       "Gender                   object\n",
       "PositionID                int64\n",
       "PositionTitle            object\n",
       "Compensation              int64\n",
       "MaxTerm                   int64\n",
       "StartDate        datetime64[ns]\n",
       "Phone                    object\n",
       "Email                    object\n",
       "dtype: object"
      ]
     },
     "execution_count": 20,
     "metadata": {},
     "output_type": "execute_result"
    }
   ],
   "source": [
    "personnel['StartDate'] = pd.to_datetime(personnel['StartDate'], errors='coerce')\n",
    "personnel.dtypes"
   ]
  },
  {
   "cell_type": "markdown",
   "id": "35459043-7695-497a-b41d-b7b7f96258a8",
   "metadata": {},
   "source": [
    "## KFold Demonstration  \n",
    "Use `KFold` from `sklearn.model_selection` to simulate splitting the hospital dataset into two groups (only shows the first split).\n",
    "This is to practice fold-based splitting."
   ]
  },
  {
   "cell_type": "code",
   "execution_count": 21,
   "id": "3e99c926-9df9-4691-bee9-5a2595b78388",
   "metadata": {},
   "outputs": [
    {
     "name": "stdout",
     "output_type": "stream",
     "text": [
      "Train indices: [32 33 34 35 36 37 38 39 40 41 42 43 44 45 46 47 48 49 50 51 52 53 54 55\n",
      " 56 57 58 59 60 61 62]\n",
      "Test indices: [ 0  1  2  3  4  5  6  7  8  9 10 11 12 13 14 15 16 17 18 19 20 21 22 23\n",
      " 24 25 26 27 28 29 30 31]\n"
     ]
    }
   ],
   "source": [
    "kf = KFold(n_splits=2)\n",
    "\n",
    "for train_index, test_index in kf.split(hospitals_mod_2):\n",
    "    print(\"Train indices:\", train_index)\n",
    "    print(\"Test indices:\", test_index)\n",
    "    break  "
   ]
  },
  {
   "cell_type": "markdown",
   "id": "5d9ca972-a596-46f9-b33e-1e8e58884e47",
   "metadata": {},
   "source": [
    "## Final Preview of Key DataFrames  \n",
    "Preview the final form of my cleaned and expanded datasets."
   ]
  },
  {
   "cell_type": "code",
   "execution_count": 22,
   "id": "5e82efd4-da70-49cc-9ef7-2aec4d3754ed",
   "metadata": {},
   "outputs": [
    {
     "data": {
      "text/html": [
       "<div>\n",
       "<style scoped>\n",
       "    .dataframe tbody tr th:only-of-type {\n",
       "        vertical-align: middle;\n",
       "    }\n",
       "\n",
       "    .dataframe tbody tr th {\n",
       "        vertical-align: top;\n",
       "    }\n",
       "\n",
       "    .dataframe thead th {\n",
       "        text-align: right;\n",
       "    }\n",
       "</style>\n",
       "<table border=\"1\" class=\"dataframe\">\n",
       "  <thead>\n",
       "    <tr style=\"text-align: right;\">\n",
       "      <th></th>\n",
       "      <th>HospitalID</th>\n",
       "      <th>Work_ID</th>\n",
       "      <th>LastName</th>\n",
       "      <th>FirstName</th>\n",
       "      <th>Gender</th>\n",
       "      <th>PositionID</th>\n",
       "      <th>PositionTitle</th>\n",
       "      <th>Compensation</th>\n",
       "      <th>MaxTerm</th>\n",
       "      <th>StartDate</th>\n",
       "      <th>Phone</th>\n",
       "      <th>Email</th>\n",
       "    </tr>\n",
       "  </thead>\n",
       "  <tbody>\n",
       "    <tr>\n",
       "      <th>0</th>\n",
       "      <td>35665</td>\n",
       "      <td>351131</td>\n",
       "      <td>Cherukuri</td>\n",
       "      <td>Dileep</td>\n",
       "      <td>M</td>\n",
       "      <td>4</td>\n",
       "      <td>Safety Inspection Member</td>\n",
       "      <td>23987</td>\n",
       "      <td>2</td>\n",
       "      <td>2019-01-01</td>\n",
       "      <td>405-564-5580</td>\n",
       "      <td>dileep.cherukuri@okstate.edu</td>\n",
       "    </tr>\n",
       "    <tr>\n",
       "      <th>1</th>\n",
       "      <td>12145</td>\n",
       "      <td>756481</td>\n",
       "      <td>Rodriguez</td>\n",
       "      <td>Jose</td>\n",
       "      <td>M</td>\n",
       "      <td>1</td>\n",
       "      <td>Regional Representative</td>\n",
       "      <td>46978</td>\n",
       "      <td>4</td>\n",
       "      <td>2009-01-01</td>\n",
       "      <td>405-744-2238</td>\n",
       "      <td>jose.rodriguez@edihealth.com</td>\n",
       "    </tr>\n",
       "    <tr>\n",
       "      <th>2</th>\n",
       "      <td>45771</td>\n",
       "      <td>756481</td>\n",
       "      <td>Rodriguez</td>\n",
       "      <td>Jose</td>\n",
       "      <td>M</td>\n",
       "      <td>1</td>\n",
       "      <td>Regional Representative</td>\n",
       "      <td>46978</td>\n",
       "      <td>4</td>\n",
       "      <td>2011-01-01</td>\n",
       "      <td>405-744-2238</td>\n",
       "      <td>jose.rodriguez@edihealth.com</td>\n",
       "    </tr>\n",
       "    <tr>\n",
       "      <th>3</th>\n",
       "      <td>43353</td>\n",
       "      <td>756481</td>\n",
       "      <td>Rodriguez</td>\n",
       "      <td>Jose</td>\n",
       "      <td>M</td>\n",
       "      <td>4</td>\n",
       "      <td>Safety Inspection Member</td>\n",
       "      <td>23987</td>\n",
       "      <td>2</td>\n",
       "      <td>2011-01-01</td>\n",
       "      <td>405-744-2238</td>\n",
       "      <td>jose.rodriguez@edihealth.com</td>\n",
       "    </tr>\n",
       "    <tr>\n",
       "      <th>4</th>\n",
       "      <td>17718</td>\n",
       "      <td>811240</td>\n",
       "      <td>Charles</td>\n",
       "      <td>Kenneth</td>\n",
       "      <td>M</td>\n",
       "      <td>1</td>\n",
       "      <td>Regional Representative</td>\n",
       "      <td>46978</td>\n",
       "      <td>4</td>\n",
       "      <td>2009-01-01</td>\n",
       "      <td>405-744-3412</td>\n",
       "      <td>kenneth.charles@edihealth.com</td>\n",
       "    </tr>\n",
       "  </tbody>\n",
       "</table>\n",
       "</div>"
      ],
      "text/plain": [
       "   HospitalID  Work_ID   LastName FirstName Gender  PositionID  \\\n",
       "0       35665   351131  Cherukuri    Dileep      M           4   \n",
       "1       12145   756481  Rodriguez      Jose      M           1   \n",
       "2       45771   756481  Rodriguez      Jose      M           1   \n",
       "3       43353   756481  Rodriguez      Jose      M           4   \n",
       "4       17718   811240    Charles   Kenneth      M           1   \n",
       "\n",
       "              PositionTitle  Compensation  MaxTerm  StartDate         Phone  \\\n",
       "0  Safety Inspection Member         23987        2 2019-01-01  405-564-5580   \n",
       "1   Regional Representative         46978        4 2009-01-01  405-744-2238   \n",
       "2   Regional Representative         46978        4 2011-01-01  405-744-2238   \n",
       "3  Safety Inspection Member         23987        2 2011-01-01  405-744-2238   \n",
       "4   Regional Representative         46978        4 2009-01-01  405-744-3412   \n",
       "\n",
       "                           Email  \n",
       "0   dileep.cherukuri@okstate.edu  \n",
       "1   jose.rodriguez@edihealth.com  \n",
       "2   jose.rodriguez@edihealth.com  \n",
       "3   jose.rodriguez@edihealth.com  \n",
       "4  kenneth.charles@edihealth.com  "
      ]
     },
     "execution_count": 22,
     "metadata": {},
     "output_type": "execute_result"
    }
   ],
   "source": [
    "hospitals_mod_2.head()\n",
    "sample.head()\n",
    "personnel.head()"
   ]
  },
  {
   "cell_type": "markdown",
   "id": "10dc76a0-7e6f-46ed-8987-a96659ea2125",
   "metadata": {},
   "source": [
    "## References \n",
    "---  \n"
   ]
  },
  {
   "cell_type": "markdown",
   "id": "b65bfffe-19ed-44de-b261-bfb981e70184",
   "metadata": {},
   "source": [
    "- pandas Documentation – https://pandas.pydata.org/  \n",
    "- NumPy Documentation – https://numpy.org/doc/  \n",
    "- scikit-learn Documentation – https://scikit-learn.org/stable/  \n",
    "- BGEN632 – Intro. to Python material/ Prof. Olivia B. Newton, Ph.D  \n",
    "- ChatGPT (OpenAI) – Debugging support (`KeyError`, `SyntaxError`)- refer to screenshot "
   ]
  },
  {
   "cell_type": "code",
   "execution_count": null,
   "id": "11fda7f4-f1ea-45aa-bd53-91ee9e3d3d7a",
   "metadata": {},
   "outputs": [],
   "source": []
  }
 ],
 "metadata": {
  "kernelspec": {
   "display_name": "Python 3 (ipykernel)",
   "language": "python",
   "name": "python3"
  },
  "language_info": {
   "codemirror_mode": {
    "name": "ipython",
    "version": 3
   },
   "file_extension": ".py",
   "mimetype": "text/x-python",
   "name": "python",
   "nbconvert_exporter": "python",
   "pygments_lexer": "ipython3",
   "version": "3.13.2"
  }
 },
 "nbformat": 4,
 "nbformat_minor": 5
}
